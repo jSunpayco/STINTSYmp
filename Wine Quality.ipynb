{
 "cells": [
  {
   "cell_type": "markdown",
   "metadata": {},
   "source": [
    "# Problem Statement\n",
    "## High on Cloud Wine: Predicting the Quality of Wine\n",
    "From seed to wine, the process of making the said alcohol is said to take up to 5 years before the liquid is bottled and sold to the market for consuming. Moreoever, the sheer level of detail that vintners, or winemakers, need to pay attention to is immense due to the complexities of the taste of the alcohol. A lot of factors goes into this including the type of fruits invovled, the temperature that the fruits were grown in and where the barrels for fermentation were kept, the alcohol content in the drink and a lot more (\"Wine Production\", 2018). This is why it is important to figure out the quality of wine, not only for the producers to assure the quality of their products, but also for consumers as well to decide which wine they should try out as a beginner trying to get into alcoholic drinks, and for sommeliers as well to decide which ones to pair with their meal/s. This shows the importance of determining the quality of wine since it will take years to process one."
   ]
  },
  {
   "cell_type": "code",
   "execution_count": 2,
   "metadata": {},
   "outputs": [],
   "source": [
    "import matplotlib.pyplot as plt\n",
    "%matplotlib inline\n",
    "import numpy as np\n",
    "np.random.seed(1)\n",
    "import random\n",
    "import pandas as pd\n",
    "from sklearn.model_selection import train_test_split\n",
    "from sklearn.metrics import mean_squared_error, mean_absolute_error\n",
    "from sklearn.model_selection import GridSearchCV"
   ]
  },
  {
   "cell_type": "markdown",
   "metadata": {},
   "source": [
    "## Red Wine Quality Dataset\n",
    "The [Wine Quality Dataset](https://www.kaggle.com/uciml/red-wine-quality-cortez-et-al-2009) (titled **`winequality-red.csv`**) consists of 1599 red and white wine variants of the \"Vinho Verde\" wine from Portugal. The data was retrieved from a study conducted by Cortez, P. et al. and was uploaded and shared to Kaggle by the staff of **UCI Machine Learning Repository** under the same name. Each row available in the dataset consists of values coming from physiochemical and sensory variables. Information about the producers, grape type and selling prices are said to be unavailable due to privacy and logistic reasons."
   ]
  },
  {
   "cell_type": "code",
   "execution_count": 3,
   "metadata": {},
   "outputs": [
    {
     "data": {
      "text/html": [
       "<div>\n",
       "<style scoped>\n",
       "    .dataframe tbody tr th:only-of-type {\n",
       "        vertical-align: middle;\n",
       "    }\n",
       "\n",
       "    .dataframe tbody tr th {\n",
       "        vertical-align: top;\n",
       "    }\n",
       "\n",
       "    .dataframe thead th {\n",
       "        text-align: right;\n",
       "    }\n",
       "</style>\n",
       "<table border=\"1\" class=\"dataframe\">\n",
       "  <thead>\n",
       "    <tr style=\"text-align: right;\">\n",
       "      <th></th>\n",
       "      <th>fixed acidity</th>\n",
       "      <th>volatile acidity</th>\n",
       "      <th>citric acid</th>\n",
       "      <th>residual sugar</th>\n",
       "      <th>chlorides</th>\n",
       "      <th>free sulfur dioxide</th>\n",
       "      <th>total sulfur dioxide</th>\n",
       "      <th>density</th>\n",
       "      <th>pH</th>\n",
       "      <th>sulphates</th>\n",
       "      <th>alcohol</th>\n",
       "      <th>quality</th>\n",
       "    </tr>\n",
       "  </thead>\n",
       "  <tbody>\n",
       "    <tr>\n",
       "      <th>0</th>\n",
       "      <td>7.4</td>\n",
       "      <td>0.70</td>\n",
       "      <td>0.00</td>\n",
       "      <td>1.9</td>\n",
       "      <td>0.076</td>\n",
       "      <td>11.0</td>\n",
       "      <td>34.0</td>\n",
       "      <td>0.9978</td>\n",
       "      <td>3.51</td>\n",
       "      <td>0.56</td>\n",
       "      <td>9.4</td>\n",
       "      <td>5</td>\n",
       "    </tr>\n",
       "    <tr>\n",
       "      <th>1</th>\n",
       "      <td>7.8</td>\n",
       "      <td>0.88</td>\n",
       "      <td>0.00</td>\n",
       "      <td>2.6</td>\n",
       "      <td>0.098</td>\n",
       "      <td>25.0</td>\n",
       "      <td>67.0</td>\n",
       "      <td>0.9968</td>\n",
       "      <td>3.20</td>\n",
       "      <td>0.68</td>\n",
       "      <td>9.8</td>\n",
       "      <td>5</td>\n",
       "    </tr>\n",
       "    <tr>\n",
       "      <th>2</th>\n",
       "      <td>7.8</td>\n",
       "      <td>0.76</td>\n",
       "      <td>0.04</td>\n",
       "      <td>2.3</td>\n",
       "      <td>0.092</td>\n",
       "      <td>15.0</td>\n",
       "      <td>54.0</td>\n",
       "      <td>0.9970</td>\n",
       "      <td>3.26</td>\n",
       "      <td>0.65</td>\n",
       "      <td>9.8</td>\n",
       "      <td>5</td>\n",
       "    </tr>\n",
       "    <tr>\n",
       "      <th>3</th>\n",
       "      <td>11.2</td>\n",
       "      <td>0.28</td>\n",
       "      <td>0.56</td>\n",
       "      <td>1.9</td>\n",
       "      <td>0.075</td>\n",
       "      <td>17.0</td>\n",
       "      <td>60.0</td>\n",
       "      <td>0.9980</td>\n",
       "      <td>3.16</td>\n",
       "      <td>0.58</td>\n",
       "      <td>9.8</td>\n",
       "      <td>6</td>\n",
       "    </tr>\n",
       "    <tr>\n",
       "      <th>4</th>\n",
       "      <td>7.4</td>\n",
       "      <td>0.70</td>\n",
       "      <td>0.00</td>\n",
       "      <td>1.9</td>\n",
       "      <td>0.076</td>\n",
       "      <td>11.0</td>\n",
       "      <td>34.0</td>\n",
       "      <td>0.9978</td>\n",
       "      <td>3.51</td>\n",
       "      <td>0.56</td>\n",
       "      <td>9.4</td>\n",
       "      <td>5</td>\n",
       "    </tr>\n",
       "  </tbody>\n",
       "</table>\n",
       "</div>"
      ],
      "text/plain": [
       "   fixed acidity  volatile acidity  citric acid  residual sugar  chlorides  \\\n",
       "0            7.4              0.70         0.00             1.9      0.076   \n",
       "1            7.8              0.88         0.00             2.6      0.098   \n",
       "2            7.8              0.76         0.04             2.3      0.092   \n",
       "3           11.2              0.28         0.56             1.9      0.075   \n",
       "4            7.4              0.70         0.00             1.9      0.076   \n",
       "\n",
       "   free sulfur dioxide  total sulfur dioxide  density    pH  sulphates  \\\n",
       "0                 11.0                  34.0   0.9978  3.51       0.56   \n",
       "1                 25.0                  67.0   0.9968  3.20       0.68   \n",
       "2                 15.0                  54.0   0.9970  3.26       0.65   \n",
       "3                 17.0                  60.0   0.9980  3.16       0.58   \n",
       "4                 11.0                  34.0   0.9978  3.51       0.56   \n",
       "\n",
       "   alcohol  quality  \n",
       "0      9.4        5  \n",
       "1      9.8        5  \n",
       "2      9.8        5  \n",
       "3      9.8        6  \n",
       "4      9.4        5  "
      ]
     },
     "execution_count": 3,
     "metadata": {},
     "output_type": "execute_result"
    }
   ],
   "source": [
    "main_df = pd.read_csv(\"./winequality-red.csv\")\n",
    "main_df.head()"
   ]
  },
  {
   "cell_type": "markdown",
   "metadata": {},
   "source": [
    "Below is the list of features, their descriptions and their label:\n",
    "- **`fixed acidity`**: Acids that do not evaporate quickly (g(tartaric acid)/dm^3).\n",
    "- **`volatile acidity`**: Acetic acid that gives a vinegary taste when too much is added (g(acetic acid)/dm^3).\n",
    "- **`citric acid\t`**: Adds freshness to the flavor of the wine (g/dm^3).\n",
    "- **`residual sugar\t`**: Amount of sugar after fermentation (g/dm^3).\n",
    "- **`chlorides`**: Amount of salt (g(sodium chloride)/dm^3).\n",
    "- **`free sulfur dioxide`**: Amount of free form sulfure dioxide used to prevent microbial growth and oxidation (mg/dm^3).\n",
    "- **`total sulfur dioxide`**: Amount of free and bound forms of sulfur dioxide (mg/dm^3).\n",
    "- **`density`**: Density of water (grams/cm^3).\n",
    "- **`pH`**: How acidic (0) or basic (14) the wine is.\n",
    "- **`sulphates`**: An additive that contributes to sulfur dioxide gas (g(potassium sulphate)/dm^3).\n",
    "- **`alcohol`**: Alcohol content percentage (vol.%).\n",
    "- **`quality`**: Quality of the wine with 0 being the lowest and 10 being the highest."
   ]
  },
  {
   "cell_type": "code",
   "execution_count": 4,
   "metadata": {},
   "outputs": [
    {
     "name": "stdout",
     "output_type": "stream",
     "text": [
      "<class 'pandas.core.frame.DataFrame'>\n",
      "RangeIndex: 1599 entries, 0 to 1598\n",
      "Data columns (total 12 columns):\n",
      " #   Column                Non-Null Count  Dtype  \n",
      "---  ------                --------------  -----  \n",
      " 0   fixed acidity         1599 non-null   float64\n",
      " 1   volatile acidity      1599 non-null   float64\n",
      " 2   citric acid           1599 non-null   float64\n",
      " 3   residual sugar        1599 non-null   float64\n",
      " 4   chlorides             1599 non-null   float64\n",
      " 5   free sulfur dioxide   1599 non-null   float64\n",
      " 6   total sulfur dioxide  1599 non-null   float64\n",
      " 7   density               1599 non-null   float64\n",
      " 8   pH                    1599 non-null   float64\n",
      " 9   sulphates             1599 non-null   float64\n",
      " 10  alcohol               1599 non-null   float64\n",
      " 11  quality               1599 non-null   int64  \n",
      "dtypes: float64(11), int64(1)\n",
      "memory usage: 150.0 KB\n"
     ]
    }
   ],
   "source": [
    "main_df.info()"
   ]
  },
  {
   "cell_type": "markdown",
   "metadata": {},
   "source": [
    "Because the features available in the data are all measurements of some sort of content in the wine, the labels are all set to a float data type, excluding the quality feature which is in the form of an integer. <br><br>\n",
    "Additionally, the info also tells us that the dataset does not contain any null values, therefore not needing to dabble with any of the labels."
   ]
  },
  {
   "cell_type": "markdown",
   "metadata": {},
   "source": [
    "As stated by the owner of the dataset, the **quality** feature must be within the range of 0-10. To determine whether this is reflected in the dataset itself, we will now proceed to execute the code below to verify this claim."
   ]
  },
  {
   "cell_type": "code",
   "execution_count": 5,
   "metadata": {},
   "outputs": [
    {
     "name": "stdout",
     "output_type": "stream",
     "text": [
      "quality: 3 – 8\n"
     ]
    }
   ],
   "source": [
    "print(\"quality: \" + str(main_df[\"quality\"].min()) + \" – \" + str(main_df[\"quality\"].max())) # Range: [0 – 10]"
   ]
  },
  {
   "cell_type": "markdown",
   "metadata": {},
   "source": [
    "As seen above, the minimum value found for the **quality** feature is three (3) whereas the maximum value found is eight (8), therefore, the aforementioned statement is valid for this dataset."
   ]
  },
  {
   "cell_type": "markdown",
   "metadata": {},
   "source": [
    "# Simple Data Analysis on Wine Quality Data"
   ]
  },
  {
   "cell_type": "markdown",
   "metadata": {},
   "source": [
    "We will now begin to dive down into the analysis of the features within the dataset."
   ]
  },
  {
   "cell_type": "markdown",
   "metadata": {},
   "source": [
    "### EDA #1: Studying the distributions of the continuous features in the Wine Quality data."
   ]
  },
  {
   "cell_type": "code",
   "execution_count": 6,
   "metadata": {
    "scrolled": true
   },
   "outputs": [
    {
     "data": {
      "image/png": "[encoded data removed]",
      "text/plain": [
       "<Figure size 720x1080 with 12 Axes>"
      ]
     },
     "metadata": {
      "needs_background": "light"
     },
     "output_type": "display_data"
    }
   ],
   "source": [
    "main_df.hist(bins=40, figsize=(10,15))\n",
    "plt.show()"
   ]
  },
  {
   "cell_type": "markdown",
   "metadata": {},
   "source": [
    "As seen in the tables above, we can observe a positive skew in the **sulphates**, **alcohol**, **chlorides**, **total sulfur dioxide**, **free sulfur dioxide**, **residual sugar**, **fixed acidity**, **citric acid** and **volatile acidity** features. Whereas the **ph**, and **density** features are normally skewed."
   ]
  },
  {
   "cell_type": "markdown",
   "metadata": {},
   "source": [
    "### EDA #2: Studying the correlations between the features in the Wine Quality data."
   ]
  },
  {
   "cell_type": "code",
   "execution_count": 7,
   "metadata": {},
   "outputs": [
    {
     "data": {
      "text/plain": [
       "<matplotlib.axes._subplots.AxesSubplot at 0x210a35c0688>"
      ]
     },
     "execution_count": 7,
     "metadata": {},
     "output_type": "execute_result"
    },
    {
     "data": {
      "image/png": "[encoded data removed]",
      "text/plain": [
       "<Figure size 864x432 with 2 Axes>"
      ]
     },
     "metadata": {
      "needs_background": "light"
     },
     "output_type": "display_data"
    }
   ],
   "source": [
    "import seaborn as sns\n",
    "plt.figure(figsize=(12, 6))\n",
    "sns.heatmap(main_df.corr(), annot=True, cmap=plt.cm.magma)"
   ]
  },
  {
   "cell_type": "markdown",
   "metadata": {},
   "source": [
    "To determine the correlation between the features presented, a heatmap will be used wherein the **Pearson's Correlation Coefficient (PCC)** will be used as the value for the relationship between two features. A value that is closer to positive 1 indicates a stronger relationship (where one one variable increases, the other is also most likely to increase). On the contrary, a PCC value closer to negative 1 will have little to no relationship. \n",
    "\n",
    "In our case, the threshold established is automatically set from the values that the dataset has provided, making the minimum value -0.68, and the maximum value a +1.\n",
    "\n",
    "As observed in the heatmap above, there seems to be a positive correlation between the amomunt of **fixed acidity** with the amount of **citric acid** in the wine and the **density** of a wine. This is due to the fact that citric acid (National Library of Medicine, n.d.a) and tartaric acid, or fixed acid, (National Library of Medicine, n.d.b) are both relatively denser than water, therefore affecting the density of the wine as well. \n",
    "\n",
    "Additionally, it is also observed that there exists a somewhat strong relationship as well between **free sulfur dioxide** and **total sulfur dioxide**. This is to be expected since both of these features contain values both related to the amount of some sort of sulfure dioxide in the wine.\n",
    "\n",
    "As mentioned earlier, the **Wine Quality dataset** also kept tabs on the **pH** levels of the wine samples, wherein acidic samples would be associated with a lower **pH** level, and the other way around for more basic samples. This is proven by the heatmap wherein the **pH** level of the samples is observed to have a negative relationship with the **fixed acidity** and the **citric acid** of the wines, where the acid levels of the two latter features should lower the **pH** level of the wine. However, this is not true with the amount of acetic acid, in the form of **volatile** acid, wherein a positive correlation is observed between the aforesaid acid and the **pH**. \n",
    "\n",
    "Lastly, by using the heatmap, we can observe how each of the features of the wine affects the overall **quality** of a specific sample. We can observe a positive correlation between the **quality** feature and the amount of **alcohol** present in the wine. On the other hand, there seems to be a negative correlation between the **quality** and the acidity of the wine, indicating that the testers did not have a strong liking towards wines that are more sour to taste. "
   ]
  },
  {
   "cell_type": "markdown",
   "metadata": {},
   "source": [
    "### EDA #3: Bivariate analysis on a few features."
   ]
  },
  {
   "cell_type": "code",
   "execution_count": 8,
   "metadata": {},
   "outputs": [
    {
     "data": {
      "image/png": "[encoded data removed]",
      "text/plain": [
       "<Figure size 360x360 with 1 Axes>"
      ]
     },
     "metadata": {
      "needs_background": "light"
     },
     "output_type": "display_data"
    }
   ],
   "source": [
    "fig = plt.figure(figsize=(5,5)) \n",
    "sns.boxplot(x=\"quality\", y=\"alcohol\", data=main_df)\n",
    "plt.show()"
   ]
  },
  {
   "cell_type": "code",
   "execution_count": 9,
   "metadata": {},
   "outputs": [
    {
     "data": {
      "text/html": [
       "<div>\n",
       "<style scoped>\n",
       "    .dataframe tbody tr th:only-of-type {\n",
       "        vertical-align: middle;\n",
       "    }\n",
       "\n",
       "    .dataframe tbody tr th {\n",
       "        vertical-align: top;\n",
       "    }\n",
       "\n",
       "    .dataframe thead th {\n",
       "        text-align: right;\n",
       "    }\n",
       "</style>\n",
       "<table border=\"1\" class=\"dataframe\">\n",
       "  <thead>\n",
       "    <tr style=\"text-align: right;\">\n",
       "      <th></th>\n",
       "      <th>quality</th>\n",
       "      <th>alcohol</th>\n",
       "    </tr>\n",
       "  </thead>\n",
       "  <tbody>\n",
       "    <tr>\n",
       "      <th>5</th>\n",
       "      <td>8</td>\n",
       "      <td>12.094444</td>\n",
       "    </tr>\n",
       "    <tr>\n",
       "      <th>4</th>\n",
       "      <td>7</td>\n",
       "      <td>11.465913</td>\n",
       "    </tr>\n",
       "    <tr>\n",
       "      <th>3</th>\n",
       "      <td>6</td>\n",
       "      <td>10.629519</td>\n",
       "    </tr>\n",
       "    <tr>\n",
       "      <th>1</th>\n",
       "      <td>4</td>\n",
       "      <td>10.265094</td>\n",
       "    </tr>\n",
       "    <tr>\n",
       "      <th>0</th>\n",
       "      <td>3</td>\n",
       "      <td>9.955000</td>\n",
       "    </tr>\n",
       "    <tr>\n",
       "      <th>2</th>\n",
       "      <td>5</td>\n",
       "      <td>9.899706</td>\n",
       "    </tr>\n",
       "  </tbody>\n",
       "</table>\n",
       "</div>"
      ],
      "text/plain": [
       "   quality    alcohol\n",
       "5        8  12.094444\n",
       "4        7  11.465913\n",
       "3        6  10.629519\n",
       "1        4  10.265094\n",
       "0        3   9.955000\n",
       "2        5   9.899706"
      ]
     },
     "execution_count": 9,
     "metadata": {},
     "output_type": "execute_result"
    }
   ],
   "source": [
    "main_df[['quality', 'alcohol']].groupby(['quality'], as_index=False).mean().sort_values(by='alcohol', ascending=False)"
   ]
  },
  {
   "cell_type": "markdown",
   "metadata": {},
   "source": [
    "The boxplot above shows that higher quality wines usually have higher alcohol percentages with wines of quality rating 8 having an average of 12.09% alcohol content. Outliers with high alcohol percentages are present in wines with quality 5 and 6 while wines with quality of 3 has outliers with very low alcohol content."
   ]
  },
  {
   "cell_type": "code",
   "execution_count": 10,
   "metadata": {},
   "outputs": [
    {
     "data": {
      "image/png": "[encoded data removed]",
      "text/plain": [
       "<Figure size 360x360 with 1 Axes>"
      ]
     },
     "metadata": {
      "needs_background": "light"
     },
     "output_type": "display_data"
    }
   ],
   "source": [
    "fig = plt.figure(figsize=(5,5)) \n",
    "sns.boxplot(x=\"quality\", y=\"volatile acidity\", data=main_df)\n",
    "plt.show()"
   ]
  },
  {
   "cell_type": "code",
   "execution_count": 11,
   "metadata": {},
   "outputs": [
    {
     "data": {
      "text/html": [
       "<div>\n",
       "<style scoped>\n",
       "    .dataframe tbody tr th:only-of-type {\n",
       "        vertical-align: middle;\n",
       "    }\n",
       "\n",
       "    .dataframe tbody tr th {\n",
       "        vertical-align: top;\n",
       "    }\n",
       "\n",
       "    .dataframe thead th {\n",
       "        text-align: right;\n",
       "    }\n",
       "</style>\n",
       "<table border=\"1\" class=\"dataframe\">\n",
       "  <thead>\n",
       "    <tr style=\"text-align: right;\">\n",
       "      <th></th>\n",
       "      <th>quality</th>\n",
       "      <th>volatile acidity</th>\n",
       "    </tr>\n",
       "  </thead>\n",
       "  <tbody>\n",
       "    <tr>\n",
       "      <th>0</th>\n",
       "      <td>3</td>\n",
       "      <td>0.884500</td>\n",
       "    </tr>\n",
       "    <tr>\n",
       "      <th>1</th>\n",
       "      <td>4</td>\n",
       "      <td>0.693962</td>\n",
       "    </tr>\n",
       "    <tr>\n",
       "      <th>2</th>\n",
       "      <td>5</td>\n",
       "      <td>0.577041</td>\n",
       "    </tr>\n",
       "    <tr>\n",
       "      <th>3</th>\n",
       "      <td>6</td>\n",
       "      <td>0.497484</td>\n",
       "    </tr>\n",
       "    <tr>\n",
       "      <th>5</th>\n",
       "      <td>8</td>\n",
       "      <td>0.423333</td>\n",
       "    </tr>\n",
       "    <tr>\n",
       "      <th>4</th>\n",
       "      <td>7</td>\n",
       "      <td>0.403920</td>\n",
       "    </tr>\n",
       "  </tbody>\n",
       "</table>\n",
       "</div>"
      ],
      "text/plain": [
       "   quality  volatile acidity\n",
       "0        3          0.884500\n",
       "1        4          0.693962\n",
       "2        5          0.577041\n",
       "3        6          0.497484\n",
       "5        8          0.423333\n",
       "4        7          0.403920"
      ]
     },
     "execution_count": 11,
     "metadata": {},
     "output_type": "execute_result"
    }
   ],
   "source": [
    "main_df[['quality', 'volatile acidity']].groupby(['quality'], as_index=False).mean().sort_values(by='volatile acidity', ascending=False)"
   ]
  },
  {
   "cell_type": "markdown",
   "metadata": {},
   "source": [
    "As was previously shown in the heatmap, the relationship between the acidity and the quality of the wine is negatively correlated with wines of quality 3 having an average volatile acidity of 0.884500. It is also shown in the boxplot that the acidity median of wines with qualities 7 and 8 are quite close to each other."
   ]
  },
  {
   "cell_type": "markdown",
   "metadata": {},
   "source": [
    "# Machine Learning Techniques to Predict Wine Quality\n",
    "\n",
    "This study aims to predict the quality of wine by using a type of machine learning model called classifiers. These models are designed to predict a certain value given a set of data points fed to the model (Asiri, 2018). Since we are only predicting the quality of wine based on a numerical score of three (3) to six (6), this kind of model would be deemed appropriate for this study. \n",
    "\n",
    "The algorithms that we have decided to use would be **Decision Trees** and **Naive Bayes** due to its nature of being able to handle multiple classes for predicting problems (CFI, n.d.;Vadapalli, 2021)."
   ]
  },
  {
   "cell_type": "markdown",
   "metadata": {},
   "source": [
    "## Model #1: Decision Trees"
   ]
  },
  {
   "cell_type": "markdown",
   "metadata": {},
   "source": [
    "The feature columns are first extracted by obtaining every column present in the dataset. The **quality** column is then dropped as it will be the basis for the studie's label, as seen in line 3 wherein the said column is extracted. "
   ]
  },
  {
   "cell_type": "code",
   "execution_count": 12,
   "metadata": {
    "scrolled": true
   },
   "outputs": [
    {
     "name": "stdout",
     "output_type": "stream",
     "text": [
      "(1599, 11)\n",
      "(1599,)\n"
     ]
    }
   ],
   "source": [
    "# Extract feature columns for X and label column for y\n",
    "X = main_df.drop(['quality'], axis=1).values\n",
    "y = main_df['quality'].values\n",
    "\n",
    "print(X.shape)\n",
    "print(y.shape)"
   ]
  },
  {
   "cell_type": "markdown",
   "metadata": {},
   "source": [
    "The data obtained from the dataset is then split into training sets, namely `X_train`, `y-train`, `X_test`, and `y_test`, in order to allot a certain number of samples for testing the accuracy of the model."
   ]
  },
  {
   "cell_type": "code",
   "execution_count": 13,
   "metadata": {},
   "outputs": [],
   "source": [
    "# Split data into training and test sets\n",
    "X_train, X_test, y_train, y_test = train_test_split(X, y)"
   ]
  },
  {
   "cell_type": "markdown",
   "metadata": {},
   "source": [
    "The model to be used for the first method is called DecisionTreeClassifier. This is imported from the sklearn library as seen in line 2. The model will then be initialized into the variable `dtc`, wherein the training sets initialized earlier will be used to train the said model."
   ]
  },
  {
   "cell_type": "code",
   "execution_count": 14,
   "metadata": {},
   "outputs": [
    {
     "name": "stdout",
     "output_type": "stream",
     "text": [
      "Accuracy: 60.25%\n"
     ]
    }
   ],
   "source": [
    "# Import and initialize Decision Tree Classifier\n",
    "from sklearn.tree import DecisionTreeClassifier\n",
    "dtc = DecisionTreeClassifier()\n",
    "\n",
    "# Train the sets\n",
    "dtc = dtc.fit(X_train, y_train)\n",
    "\n",
    "# Predict the sets and get the accuracy\n",
    "predictions = dtc.predict(X_test)\n",
    "print(\"Accuracy: \" + str(dtc.score(X_test, y_test) * 100) + \"%\")"
   ]
  },
  {
   "cell_type": "markdown",
   "metadata": {},
   "source": [
    "As observed in lines 9 and 10, the methods `predict` and `score` was used to obtain the regression value of the samples under X_test and to predict the mean accuracy of the model respectively."
   ]
  },
  {
   "cell_type": "markdown",
   "metadata": {},
   "source": [
    "### Decision Tree Hyperparameter Tuning\n",
    "\n",
    "In these block of codes, we will tune the model by searching for the best values for the parameters `max_depth`, `min_samples_leaf`, `min_samples_split`, and `criterion`, after which we will fit in the model to test whether the accuracy has increased or not."
   ]
  },
  {
   "cell_type": "code",
   "execution_count": 29,
   "metadata": {},
   "outputs": [],
   "source": [
    "tree_params = {\n",
    "    'max_depth' : range(1,40),\n",
    "    'min_samples_leaf' : range(20,400,40),\n",
    "    'min_samples_split' : range(20,400,40),\n",
    "    'criterion' : ['gini','entropy'] \n",
    "}"
   ]
  },
  {
   "cell_type": "markdown",
   "metadata": {},
   "source": [
    "A new `DecisionTreeClassifier` variable is then initialized in order to test the values defined in the variable `tree_params` throughout several iterations of fitting and checking the accuracy of the said model. Moreover, `GridSeachCV`, an sklearn function to loop through several predefined hyperparamters, will be used to fit the model with the training sets."
   ]
  },
  {
   "cell_type": "code",
   "execution_count": 30,
   "metadata": {},
   "outputs": [],
   "source": [
    "dTemp = DecisionTreeClassifier()\n",
    "\n",
    "grid_obj = GridSearchCV(dTemp, tree_params, return_train_score=True)\n",
    "grid_obj = grid_obj.fit(X_train, y_train)"
   ]
  },
  {
   "cell_type": "code",
   "execution_count": 31,
   "metadata": {},
   "outputs": [
    {
     "name": "stdout",
     "output_type": "stream",
     "text": [
      "The highest score of 0.5979951185495118 has been attained. The paramteres chosen are: {'criterion': 'gini', 'max_depth': 8, 'min_samples_leaf': 20, 'min_samples_split': 20}\n"
     ]
    }
   ],
   "source": [
    "print(\"The highest score of \" + str(grid_obj.best_score_) + \" has been attained. The paramteres chosen are: \" + str(grid_obj.best_params_))"
   ]
  },
  {
   "cell_type": "markdown",
   "metadata": {},
   "source": [
    "The parameters presented above are then chosen to initialize a new model containing the most optimal values for certain parameters. Similar to the code blocks prior to tuning the hyperparameters, the new model will be fitted using the training sets, and the accuracy of the model will then be obtained afterwards."
   ]
  },
  {
   "cell_type": "code",
   "execution_count": 32,
   "metadata": {},
   "outputs": [
    {
     "name": "stdout",
     "output_type": "stream",
     "text": [
      "Accuracy: 88.0%\n"
     ]
    }
   ],
   "source": [
    "# initialize new model\n",
    "tree_improved = grid_obj.best_estimator_\n",
    "tree_improved.fit(X_train,y_train)\n",
    "\n",
    "# Predict the sets and get the accuracy\n",
    "predictions = dtc.predict(X_test)\n",
    "print(\"Accuracy: \" + str(dtc.score(X_test, y_test) * 100) + \"%\")"
   ]
  },
  {
   "cell_type": "markdown",
   "metadata": {},
   "source": [
    "After the hyperparameter tuning, the model has now an accuracy of 88.00% which has improved a lot from 60.25% without the tuning. "
   ]
  },
  {
   "cell_type": "markdown",
   "metadata": {},
   "source": [
    "## Model #2: Naive Bayes"
   ]
  },
  {
   "cell_type": "markdown",
   "metadata": {},
   "source": [
    "Much related to the first modelling approach, the variable `y` containing the label column will exclude every column in the dataset except for the **quality** column. The sizes of the variables are then printed to display whether the appropriate columns were extracted or not."
   ]
  },
  {
   "cell_type": "code",
   "execution_count": 18,
   "metadata": {},
   "outputs": [
    {
     "name": "stdout",
     "output_type": "stream",
     "text": [
      "(1599, 11)\n",
      "(1599,)\n"
     ]
    }
   ],
   "source": [
    "# Extract feature columns for X and label column for y\n",
    "X = main_df.drop(['quality'], axis=1).values\n",
    "y = main_df['quality'].values\n",
    "\n",
    "print(X.shape)\n",
    "print(y.shape)"
   ]
  },
  {
   "cell_type": "markdown",
   "metadata": {},
   "source": [
    "By using the `train_test_split` method, the obtained samples are set into the corresponding training and testing sets."
   ]
  },
  {
   "cell_type": "code",
   "execution_count": 19,
   "metadata": {},
   "outputs": [],
   "source": [
    "# Split data into training and test sets\n",
    "X_train, X_test, y_train, y_test = train_test_split(X, y)"
   ]
  },
  {
   "cell_type": "markdown",
   "metadata": {},
   "source": [
    "The GaussianNB model is then imported and the sets are proceeded to be trained and predicted"
   ]
  },
  {
   "cell_type": "code",
   "execution_count": 20,
   "metadata": {},
   "outputs": [],
   "source": [
    "# Import and initialize GaussianNB Model\n",
    "from sklearn.naive_bayes import GaussianNB\n",
    "gnb = GaussianNB()\n",
    "\n",
    "# Train the sets and get the predictions\n",
    "predictions = gnb.fit(X_train, y_train)\n",
    "predictions = predictions.predict(X_test)"
   ]
  },
  {
   "cell_type": "markdown",
   "metadata": {},
   "source": [
    "The accuracy is obtained by using the built-in method `score`."
   ]
  },
  {
   "cell_type": "code",
   "execution_count": 21,
   "metadata": {},
   "outputs": [
    {
     "name": "stdout",
     "output_type": "stream",
     "text": [
      "Accuracy:  58.25%\n"
     ]
    }
   ],
   "source": [
    "# Print the accuracy of the model on the predictions\n",
    "\n",
    "print(\"Accuracy: \", str(gnb.score(X_test, y_test) * 100) + \"%\")"
   ]
  },
  {
   "cell_type": "markdown",
   "metadata": {},
   "source": [
    "The initial accuracy of the Naive Bayes model, as seen above, is 58.25%"
   ]
  },
  {
   "cell_type": "markdown",
   "metadata": {},
   "source": [
    "### Gaussin Naive Bayes Hyperparameter Tuning\n",
    "The parameter `var_smoothing` is chosen to be manipulated to attempt in improving the accuracy score of the chosen model."
   ]
  },
  {
   "cell_type": "code",
   "execution_count": 22,
   "metadata": {},
   "outputs": [],
   "source": [
    "gauss_parameters= {'var_smoothing': np.logspace(0,-9, num=100)}"
   ]
  },
  {
   "cell_type": "markdown",
   "metadata": {},
   "source": [
    "Once again, GridSearchCV will be initialized with the predefined hyperparameters seen above, with gnb as its `estimator`, 3 for the `cv`, 1 for the `verbose`, and accuracy as the `scoring` strategy."
   ]
  },
  {
   "cell_type": "code",
   "execution_count": 23,
   "metadata": {},
   "outputs": [
    {
     "name": "stdout",
     "output_type": "stream",
     "text": [
      "Fitting 3 folds for each of 100 candidates, totalling 300 fits\n"
     ]
    },
    {
     "name": "stderr",
     "output_type": "stream",
     "text": [
      "[Parallel(n_jobs=1)]: Using backend SequentialBackend with 1 concurrent workers.\n",
      "[Parallel(n_jobs=1)]: Done 300 out of 300 | elapsed:    0.5s finished\n"
     ]
    },
    {
     "data": {
      "text/plain": [
       "GridSearchCV(cv=3, error_score=nan,\n",
       "             estimator=GaussianNB(priors=None, var_smoothing=1e-09),\n",
       "             iid='deprecated', n_jobs=None,\n",
       "             param_grid={'var_smoothing': array([1.00000000e+00, 8.11130831e-01, 6.57933225e-01, 5.33669923e-01,\n",
       "       4.32876128e-01, 3.51119173e-01, 2.84803587e-01, 2.31012970e-01,\n",
       "       1.87381742e-01, 1.51991108e-01, 1.23284674e-01, 1.00000000e-01,\n",
       "       8.11130831e-02, 6.5...\n",
       "       5.33669923e-08, 4.32876128e-08, 3.51119173e-08, 2.84803587e-08,\n",
       "       2.31012970e-08, 1.87381742e-08, 1.51991108e-08, 1.23284674e-08,\n",
       "       1.00000000e-08, 8.11130831e-09, 6.57933225e-09, 5.33669923e-09,\n",
       "       4.32876128e-09, 3.51119173e-09, 2.84803587e-09, 2.31012970e-09,\n",
       "       1.87381742e-09, 1.51991108e-09, 1.23284674e-09, 1.00000000e-09])},\n",
       "             pre_dispatch='2*n_jobs', refit=True, return_train_score=False,\n",
       "             scoring='accuracy', verbose=1)"
      ]
     },
     "execution_count": 23,
     "metadata": {},
     "output_type": "execute_result"
    }
   ],
   "source": [
    "gs_NB = GridSearchCV(estimator=gnb, param_grid=gauss_parameters, cv=3,verbose=1,scoring='accuracy')\n",
    "gs_NB.fit(X_train, y_train)"
   ]
  },
  {
   "cell_type": "markdown",
   "metadata": {},
   "source": [
    "The best estimator will then be chosen prior to fitting the model."
   ]
  },
  {
   "cell_type": "code",
   "execution_count": 24,
   "metadata": {},
   "outputs": [
    {
     "data": {
      "text/plain": [
       "GaussianNB(priors=None, var_smoothing=1.2328467394420658e-05)"
      ]
     },
     "execution_count": 24,
     "metadata": {},
     "output_type": "execute_result"
    }
   ],
   "source": [
    "gnb = gs_NB.best_estimator_\n",
    "gnb.fit(X_train, y_train)"
   ]
  },
  {
   "cell_type": "markdown",
   "metadata": {},
   "source": [
    "Grid search has determined that the optimal hyperparameter for the model is **1e-05** for the var_smoothing"
   ]
  },
  {
   "cell_type": "code",
   "execution_count": 25,
   "metadata": {},
   "outputs": [
    {
     "name": "stdout",
     "output_type": "stream",
     "text": [
      "Accuracy:  60.0%\n"
     ]
    }
   ],
   "source": [
    "print(\"Accuracy: \", str(gnb.score(X_test, y_test) * 100) + \"%\")"
   ]
  },
  {
   "cell_type": "markdown",
   "metadata": {},
   "source": [
    "As observed, we have received an accuracy score of 60%, which is only a slight improvement from the previous accuracy score."
   ]
  },
  {
   "cell_type": "markdown",
   "metadata": {},
   "source": [
    "A `confusion_matrix` is then constructed in order to display the accuracy of the model wherein the `predicted` columns represents what the model has predicted given the samples, and the `true` rows represents the actual value associated with the set of features."
   ]
  },
  {
   "cell_type": "code",
   "execution_count": 26,
   "metadata": {},
   "outputs": [
    {
     "data": {
      "text/html": [
       "<div>\n",
       "<style scoped>\n",
       "    .dataframe tbody tr th:only-of-type {\n",
       "        vertical-align: middle;\n",
       "    }\n",
       "\n",
       "    .dataframe tbody tr th {\n",
       "        vertical-align: top;\n",
       "    }\n",
       "\n",
       "    .dataframe thead th {\n",
       "        text-align: right;\n",
       "    }\n",
       "</style>\n",
       "<table border=\"1\" class=\"dataframe\">\n",
       "  <thead>\n",
       "    <tr style=\"text-align: right;\">\n",
       "      <th>Predicted</th>\n",
       "      <th>4</th>\n",
       "      <th>5</th>\n",
       "      <th>6</th>\n",
       "      <th>7</th>\n",
       "      <th>8</th>\n",
       "      <th>All</th>\n",
       "    </tr>\n",
       "    <tr>\n",
       "      <th>True</th>\n",
       "      <th></th>\n",
       "      <th></th>\n",
       "      <th></th>\n",
       "      <th></th>\n",
       "      <th></th>\n",
       "      <th></th>\n",
       "    </tr>\n",
       "  </thead>\n",
       "  <tbody>\n",
       "    <tr>\n",
       "      <th>3</th>\n",
       "      <td>1</td>\n",
       "      <td>0</td>\n",
       "      <td>0</td>\n",
       "      <td>0</td>\n",
       "      <td>0</td>\n",
       "      <td>1</td>\n",
       "    </tr>\n",
       "    <tr>\n",
       "      <th>4</th>\n",
       "      <td>1</td>\n",
       "      <td>9</td>\n",
       "      <td>0</td>\n",
       "      <td>0</td>\n",
       "      <td>1</td>\n",
       "      <td>11</td>\n",
       "    </tr>\n",
       "    <tr>\n",
       "      <th>5</th>\n",
       "      <td>5</td>\n",
       "      <td>115</td>\n",
       "      <td>42</td>\n",
       "      <td>2</td>\n",
       "      <td>0</td>\n",
       "      <td>164</td>\n",
       "    </tr>\n",
       "    <tr>\n",
       "      <th>6</th>\n",
       "      <td>3</td>\n",
       "      <td>51</td>\n",
       "      <td>95</td>\n",
       "      <td>23</td>\n",
       "      <td>1</td>\n",
       "      <td>173</td>\n",
       "    </tr>\n",
       "    <tr>\n",
       "      <th>7</th>\n",
       "      <td>0</td>\n",
       "      <td>1</td>\n",
       "      <td>26</td>\n",
       "      <td>22</td>\n",
       "      <td>1</td>\n",
       "      <td>50</td>\n",
       "    </tr>\n",
       "    <tr>\n",
       "      <th>8</th>\n",
       "      <td>0</td>\n",
       "      <td>0</td>\n",
       "      <td>1</td>\n",
       "      <td>0</td>\n",
       "      <td>0</td>\n",
       "      <td>1</td>\n",
       "    </tr>\n",
       "    <tr>\n",
       "      <th>All</th>\n",
       "      <td>10</td>\n",
       "      <td>176</td>\n",
       "      <td>164</td>\n",
       "      <td>47</td>\n",
       "      <td>3</td>\n",
       "      <td>400</td>\n",
       "    </tr>\n",
       "  </tbody>\n",
       "</table>\n",
       "</div>"
      ],
      "text/plain": [
       "Predicted   4    5    6   7  8  All\n",
       "True                               \n",
       "3           1    0    0   0  0    1\n",
       "4           1    9    0   0  1   11\n",
       "5           5  115   42   2  0  164\n",
       "6           3   51   95  23  1  173\n",
       "7           0    1   26  22  1   50\n",
       "8           0    0    1   0  0    1\n",
       "All        10  176  164  47  3  400"
      ]
     },
     "execution_count": 26,
     "metadata": {},
     "output_type": "execute_result"
    }
   ],
   "source": [
    "# Confusion Matrix\n",
    "from sklearn.metrics import confusion_matrix\n",
    "confusion_matrix(y_test,predictions)\n",
    "pd.crosstab(y_test, predictions, rownames=['True'], colnames=['Predicted'], margins=True)"
   ]
  },
  {
   "cell_type": "markdown",
   "metadata": {},
   "source": [
    "## References \n",
    "\n",
    "Apallas, A. K. (2016, July 6). The Life Cycle of a Wine Grape: From Planting to Harvest to Bottle. Wine Cooler Direct. https://learn.winecoolerdirect.com/life-cycle-of-a-wine-grape/\n",
    "\n",
    "Asiri, S. (2018, June 11). Machine Learning Classifiers. Towards Data Science. https://towardsdatascience.com/machine-learning-classifiers-a5cc4e1b0623\n",
    "\n",
    "Cortez, P., Cerdeira, A., Almeida, F., Matos, T., & Reis, J. (2009). Modeling wine preferences by data mining from physicochemical properties. Decision Support Systems, 47(4), 547-553. https://doi.org/10.1016/j.dss.2009.05.016\n",
    "\n",
    "Decision Tree. (n.d.). CFI. https://corporatefinanceinstitute.com/resources/knowledge/other/decision-tree/\n",
    "\n",
    "WINE PRODUCTION: BOTTLING QUALITY CONTROL. (2018, September 18). Gravity Wine House. https://gravitywinehouse.com/blog/wine-production-bottling-quality-control-plan\n",
    "\n",
    "National Library of Medicine. (n.d.a). Citric acid (Compound). PubChem. https://pubchem.ncbi.nlm.nih.gov/compound/Tartaric-acid#section=Density\n",
    "\n",
    "National Library of Medicine. (n.d.b). Tartaric acid (Compound). PubChem. https://pubchem.ncbi.nlm.nih.gov/compound/Tartaric-acid#section=Density\n",
    "\n",
    "Vadapalli, P. (2021, January 5). Naive Bayes Explained: Function, Advantages & Disadvantages, Applications in 2021. Upgrad. https://www.upgrad.com/blog/naive-bayes-explained/"
   ]
  },
  {
   "cell_type": "code",
   "execution_count": null,
   "metadata": {},
   "outputs": [],
   "source": []
  }
 ],
 "metadata": {
  "kernelspec": {
   "display_name": "Python 3",
   "language": "python",
   "name": "python3"
  },
  "language_info": {
   "codemirror_mode": {
    "name": "ipython",
    "version": 3
   },
   "file_extension": ".py",
   "mimetype": "text/x-python",
   "name": "python",
   "nbconvert_exporter": "python",
   "pygments_lexer": "ipython3",
   "version": "3.7.6"
  }
 },
 "nbformat": 4,
 "nbformat_minor": 4
}
